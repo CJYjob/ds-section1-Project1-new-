{
  "nbformat": 4,
  "nbformat_minor": 0,
  "metadata": {
    "colab": {
      "name": "Codestates_Project1.ipynb",
      "provenance": [],
      "collapsed_sections": [],
      "authorship_tag": "ABX9TyOVGRr1vAT5AUba1bhAE77z"
    },
    "kernelspec": {
      "name": "python3",
      "display_name": "Python 3"
    },
    "language_info": {
      "name": "python"
    }
  },
  "cells": [
    {
      "cell_type": "markdown",
      "source": [
        "# [Day 1-3] 프로젝트 설명서\n",
        "\n",
        "---\n",
        "\n",
        "| 아래의 링크를 통해 파일을 다운로드 받으세요.  \n",
        "| https://ds-lecture-data.s3.ap-northeast-2.amazonaws.com/datasets/vgames2.csv\n",
        "\n",
        "---\n",
        "\n",
        "# 목표 \n",
        "+ 다음 분기에 어떤 게임을 설계해야 할까\n",
        "\n",
        "---\n",
        "\n",
        "# 🕹️ Data Description\n",
        "+ Name : 게임의 이름입니다.  \n",
        "+ Platform : 게임이 지원되는 플랫폼의 이름입니다.  \n",
        "+ Year : 게임이 출시된 연도입니다.  \n",
        "+ Genre : 게임의 장르입니다.  \n",
        "+ Publisher : 게임을 제작한 회사입니다.  \n",
        "+ NA_Sales : 북미지역에서의 출고량입니다.  \n",
        "+ EU_Sales : 유럽지역에서의 출고량입니다.  \n",
        "+ JP_Sales : 일본지역에서의 출고량입니다.  \n",
        "+ Other_Sales : 기타지역에서의 출고량입니다.  \n",
        "\n",
        "---\n",
        "\n",
        "# 참조  \n",
        "+ Sprint 1 : EDA, Feature Engineering, Data Manipulation, Data Visualization  \n",
        "+ Sprint 2 : Hypothesis Test, CI, Bayesian, AB Test  \n",
        "+ Sprint 3 : DR, PCA, Clustering, GD  \n",
        "\n",
        "---\n",
        "\n",
        "# 반드시 들어가야 하는 내용.\n",
        "+ 지역에 따라서 선호하는 게임 장르가 다를까\n",
        "+ 연도별 게임의 트렌드가 있을까\n",
        "+ 출고량이 높은 게임에 대한 분석 및 시각화 프로세스가 포함"
      ],
      "metadata": {
        "id": "4-vu1ZMi1PKk"
      }
    },
    {
      "cell_type": "markdown",
      "source": [
        "# 라이브러리 임포트"
      ],
      "metadata": {
        "id": "l_lqNsAr4PPC"
      }
    },
    {
      "cell_type": "code",
      "execution_count": 1,
      "metadata": {
        "id": "eceP2kW60W2q"
      },
      "outputs": [],
      "source": [
        "# 데이터 핸들링\n",
        "import pandas as pd\n",
        "import numpy as np\n",
        "\n",
        "# 시각화\n",
        "import matplotlib.pyplot as plt\n",
        "import seaborn as sns"
      ]
    },
    {
      "cell_type": "markdown",
      "source": [
        "# 데이터 로드"
      ],
      "metadata": {
        "id": "vx0KZb-n4SVq"
      }
    },
    {
      "cell_type": "code",
      "source": [
        "# data from github public repository\n",
        "# 기존 데이터에 인덱스가 포함되어 있음으로, 인덱스 없이 불러오기. https://jkim83.tistory.com/169\n",
        "df_origin = pd.read_csv(\"https://github.com/CJYjob/ds-section1-Project1-new-/blob/main/vgames2.csv?raw=true\", index_col=0)"
      ],
      "metadata": {
        "id": "sC5M1d0Z26PL"
      },
      "execution_count": 2,
      "outputs": []
    },
    {
      "cell_type": "markdown",
      "source": [
        "# 데이터 원본 보존\n",
        "원본 = df_origin  \n",
        "가공 = df"
      ],
      "metadata": {
        "id": "FupcppDX4Zaq"
      }
    },
    {
      "cell_type": "code",
      "source": [
        "# 데이터 원본 보존\n",
        "df = df_origin.copy()"
      ],
      "metadata": {
        "id": "fsyNJfhp3IsC"
      },
      "execution_count": 3,
      "outputs": []
    },
    {
      "cell_type": "markdown",
      "source": [
        "# Data Wrangling : 탐색"
      ],
      "metadata": {
        "id": "Upk5ZBFh4k50"
      }
    },
    {
      "cell_type": "code",
      "source": [
        "df.shape"
      ],
      "metadata": {
        "id": "JRtd3LzJ4uaJ",
        "outputId": "bcb87360-cee5-40b3-d1b6-09e405584122",
        "colab": {
          "base_uri": "https://localhost:8080/"
        }
      },
      "execution_count": 4,
      "outputs": [
        {
          "output_type": "execute_result",
          "data": {
            "text/plain": [
              "(16598, 9)"
            ]
          },
          "metadata": {},
          "execution_count": 4
        }
      ]
    },
    {
      "cell_type": "code",
      "source": [
        "df.info()"
      ],
      "metadata": {
        "id": "LLa8xFKJ4z9j",
        "outputId": "f5a72db9-2cf3-456e-c729-cb2cd71a1af7",
        "colab": {
          "base_uri": "https://localhost:8080/"
        }
      },
      "execution_count": 5,
      "outputs": [
        {
          "output_type": "stream",
          "name": "stdout",
          "text": [
            "<class 'pandas.core.frame.DataFrame'>\n",
            "Int64Index: 16598 entries, 1 to 16598\n",
            "Data columns (total 9 columns):\n",
            " #   Column       Non-Null Count  Dtype  \n",
            "---  ------       --------------  -----  \n",
            " 0   Name         16598 non-null  object \n",
            " 1   Platform     16598 non-null  object \n",
            " 2   Year         16327 non-null  float64\n",
            " 3   Genre        16548 non-null  object \n",
            " 4   Publisher    16540 non-null  object \n",
            " 5   NA_Sales     16598 non-null  object \n",
            " 6   EU_Sales     16598 non-null  object \n",
            " 7   JP_Sales     16598 non-null  object \n",
            " 8   Other_Sales  16598 non-null  object \n",
            "dtypes: float64(1), object(8)\n",
            "memory usage: 1.3+ MB\n"
          ]
        }
      ]
    },
    {
      "cell_type": "code",
      "source": [
        "df.head()"
      ],
      "metadata": {
        "id": "nib0i9P43LUC",
        "outputId": "3195041c-d938-49f5-86c1-8a1a44c35144",
        "colab": {
          "base_uri": "https://localhost:8080/",
          "height": 206
        }
      },
      "execution_count": 6,
      "outputs": [
        {
          "output_type": "execute_result",
          "data": {
            "text/plain": [
              "                                             Name Platform    Year      Genre  \\\n",
              "1                    Candace Kane's Candy Factory       DS  2008.0     Action   \n",
              "2                                  The Munchables      Wii  2009.0     Action   \n",
              "3  Otome wa Oanesama Boku ni Koi Shiteru Portable      PSP  2010.0  Adventure   \n",
              "4                Deal or No Deal: Special Edition       DS  2010.0       Misc   \n",
              "5       Ben 10 Ultimate Alien: Cosmic Destruction      PS3  2010.0   Platform   \n",
              "\n",
              "            Publisher NA_Sales EU_Sales JP_Sales Other_Sales  \n",
              "1           Destineer     0.04        0        0           0  \n",
              "2  Namco Bandai Games     0.17        0        0        0.01  \n",
              "3           Alchemist        0        0     0.02           0  \n",
              "4           Zoo Games     0.04        0        0           0  \n",
              "5         D3Publisher     0.12     0.09        0        0.04  "
            ],
            "text/html": [
              "\n",
              "  <div id=\"df-fd5a5794-172b-448e-81d0-e1e5156e3003\">\n",
              "    <div class=\"colab-df-container\">\n",
              "      <div>\n",
              "<style scoped>\n",
              "    .dataframe tbody tr th:only-of-type {\n",
              "        vertical-align: middle;\n",
              "    }\n",
              "\n",
              "    .dataframe tbody tr th {\n",
              "        vertical-align: top;\n",
              "    }\n",
              "\n",
              "    .dataframe thead th {\n",
              "        text-align: right;\n",
              "    }\n",
              "</style>\n",
              "<table border=\"1\" class=\"dataframe\">\n",
              "  <thead>\n",
              "    <tr style=\"text-align: right;\">\n",
              "      <th></th>\n",
              "      <th>Name</th>\n",
              "      <th>Platform</th>\n",
              "      <th>Year</th>\n",
              "      <th>Genre</th>\n",
              "      <th>Publisher</th>\n",
              "      <th>NA_Sales</th>\n",
              "      <th>EU_Sales</th>\n",
              "      <th>JP_Sales</th>\n",
              "      <th>Other_Sales</th>\n",
              "    </tr>\n",
              "  </thead>\n",
              "  <tbody>\n",
              "    <tr>\n",
              "      <th>1</th>\n",
              "      <td>Candace Kane's Candy Factory</td>\n",
              "      <td>DS</td>\n",
              "      <td>2008.0</td>\n",
              "      <td>Action</td>\n",
              "      <td>Destineer</td>\n",
              "      <td>0.04</td>\n",
              "      <td>0</td>\n",
              "      <td>0</td>\n",
              "      <td>0</td>\n",
              "    </tr>\n",
              "    <tr>\n",
              "      <th>2</th>\n",
              "      <td>The Munchables</td>\n",
              "      <td>Wii</td>\n",
              "      <td>2009.0</td>\n",
              "      <td>Action</td>\n",
              "      <td>Namco Bandai Games</td>\n",
              "      <td>0.17</td>\n",
              "      <td>0</td>\n",
              "      <td>0</td>\n",
              "      <td>0.01</td>\n",
              "    </tr>\n",
              "    <tr>\n",
              "      <th>3</th>\n",
              "      <td>Otome wa Oanesama Boku ni Koi Shiteru Portable</td>\n",
              "      <td>PSP</td>\n",
              "      <td>2010.0</td>\n",
              "      <td>Adventure</td>\n",
              "      <td>Alchemist</td>\n",
              "      <td>0</td>\n",
              "      <td>0</td>\n",
              "      <td>0.02</td>\n",
              "      <td>0</td>\n",
              "    </tr>\n",
              "    <tr>\n",
              "      <th>4</th>\n",
              "      <td>Deal or No Deal: Special Edition</td>\n",
              "      <td>DS</td>\n",
              "      <td>2010.0</td>\n",
              "      <td>Misc</td>\n",
              "      <td>Zoo Games</td>\n",
              "      <td>0.04</td>\n",
              "      <td>0</td>\n",
              "      <td>0</td>\n",
              "      <td>0</td>\n",
              "    </tr>\n",
              "    <tr>\n",
              "      <th>5</th>\n",
              "      <td>Ben 10 Ultimate Alien: Cosmic Destruction</td>\n",
              "      <td>PS3</td>\n",
              "      <td>2010.0</td>\n",
              "      <td>Platform</td>\n",
              "      <td>D3Publisher</td>\n",
              "      <td>0.12</td>\n",
              "      <td>0.09</td>\n",
              "      <td>0</td>\n",
              "      <td>0.04</td>\n",
              "    </tr>\n",
              "  </tbody>\n",
              "</table>\n",
              "</div>\n",
              "      <button class=\"colab-df-convert\" onclick=\"convertToInteractive('df-fd5a5794-172b-448e-81d0-e1e5156e3003')\"\n",
              "              title=\"Convert this dataframe to an interactive table.\"\n",
              "              style=\"display:none;\">\n",
              "        \n",
              "  <svg xmlns=\"http://www.w3.org/2000/svg\" height=\"24px\"viewBox=\"0 0 24 24\"\n",
              "       width=\"24px\">\n",
              "    <path d=\"M0 0h24v24H0V0z\" fill=\"none\"/>\n",
              "    <path d=\"M18.56 5.44l.94 2.06.94-2.06 2.06-.94-2.06-.94-.94-2.06-.94 2.06-2.06.94zm-11 1L8.5 8.5l.94-2.06 2.06-.94-2.06-.94L8.5 2.5l-.94 2.06-2.06.94zm10 10l.94 2.06.94-2.06 2.06-.94-2.06-.94-.94-2.06-.94 2.06-2.06.94z\"/><path d=\"M17.41 7.96l-1.37-1.37c-.4-.4-.92-.59-1.43-.59-.52 0-1.04.2-1.43.59L10.3 9.45l-7.72 7.72c-.78.78-.78 2.05 0 2.83L4 21.41c.39.39.9.59 1.41.59.51 0 1.02-.2 1.41-.59l7.78-7.78 2.81-2.81c.8-.78.8-2.07 0-2.86zM5.41 20L4 18.59l7.72-7.72 1.47 1.35L5.41 20z\"/>\n",
              "  </svg>\n",
              "      </button>\n",
              "      \n",
              "  <style>\n",
              "    .colab-df-container {\n",
              "      display:flex;\n",
              "      flex-wrap:wrap;\n",
              "      gap: 12px;\n",
              "    }\n",
              "\n",
              "    .colab-df-convert {\n",
              "      background-color: #E8F0FE;\n",
              "      border: none;\n",
              "      border-radius: 50%;\n",
              "      cursor: pointer;\n",
              "      display: none;\n",
              "      fill: #1967D2;\n",
              "      height: 32px;\n",
              "      padding: 0 0 0 0;\n",
              "      width: 32px;\n",
              "    }\n",
              "\n",
              "    .colab-df-convert:hover {\n",
              "      background-color: #E2EBFA;\n",
              "      box-shadow: 0px 1px 2px rgba(60, 64, 67, 0.3), 0px 1px 3px 1px rgba(60, 64, 67, 0.15);\n",
              "      fill: #174EA6;\n",
              "    }\n",
              "\n",
              "    [theme=dark] .colab-df-convert {\n",
              "      background-color: #3B4455;\n",
              "      fill: #D2E3FC;\n",
              "    }\n",
              "\n",
              "    [theme=dark] .colab-df-convert:hover {\n",
              "      background-color: #434B5C;\n",
              "      box-shadow: 0px 1px 3px 1px rgba(0, 0, 0, 0.15);\n",
              "      filter: drop-shadow(0px 1px 2px rgba(0, 0, 0, 0.3));\n",
              "      fill: #FFFFFF;\n",
              "    }\n",
              "  </style>\n",
              "\n",
              "      <script>\n",
              "        const buttonEl =\n",
              "          document.querySelector('#df-fd5a5794-172b-448e-81d0-e1e5156e3003 button.colab-df-convert');\n",
              "        buttonEl.style.display =\n",
              "          google.colab.kernel.accessAllowed ? 'block' : 'none';\n",
              "\n",
              "        async function convertToInteractive(key) {\n",
              "          const element = document.querySelector('#df-fd5a5794-172b-448e-81d0-e1e5156e3003');\n",
              "          const dataTable =\n",
              "            await google.colab.kernel.invokeFunction('convertToInteractive',\n",
              "                                                     [key], {});\n",
              "          if (!dataTable) return;\n",
              "\n",
              "          const docLinkHtml = 'Like what you see? Visit the ' +\n",
              "            '<a target=\"_blank\" href=https://colab.research.google.com/notebooks/data_table.ipynb>data table notebook</a>'\n",
              "            + ' to learn more about interactive tables.';\n",
              "          element.innerHTML = '';\n",
              "          dataTable['output_type'] = 'display_data';\n",
              "          await google.colab.output.renderOutput(dataTable, element);\n",
              "          const docLink = document.createElement('div');\n",
              "          docLink.innerHTML = docLinkHtml;\n",
              "          element.appendChild(docLink);\n",
              "        }\n",
              "      </script>\n",
              "    </div>\n",
              "  </div>\n",
              "  "
            ]
          },
          "metadata": {},
          "execution_count": 6
        }
      ]
    },
    {
      "cell_type": "code",
      "source": [
        "df.tail()"
      ],
      "metadata": {
        "id": "PKvU84Nj3S5y",
        "outputId": "a6c15c8f-19f4-4a13-b91e-b2a519ab6525",
        "colab": {
          "base_uri": "https://localhost:8080/",
          "height": 206
        }
      },
      "execution_count": 7,
      "outputs": [
        {
          "output_type": "execute_result",
          "data": {
            "text/plain": [
              "                              Name Platform    Year     Genre  \\\n",
              "16594      Ice Age 2: The Meltdown       GC  2006.0  Platform   \n",
              "16595  Rainbow Islands: Revolution      PSP  2005.0    Action   \n",
              "16596                     NBA 2K16      PS3  2015.0    Sports   \n",
              "16597  Toukiden: The Age of Demons      PSV  2013.0    Action   \n",
              "16598     The King of Fighters '95       PS  1996.0  Fighting   \n",
              "\n",
              "                         Publisher NA_Sales EU_Sales JP_Sales Other_Sales  \n",
              "16594                Vivendi Games     0.15     0.04        0        0.01  \n",
              "16595            Rising Star Games     0.01        0        0           0  \n",
              "16596         Take-Two Interactive     0.44     0.19     0.03        0.13  \n",
              "16597                   Tecmo Koei     0.05     0.05     0.25        0.03  \n",
              "16598  Sony Computer Entertainment        0        0     0.16        0.01  "
            ],
            "text/html": [
              "\n",
              "  <div id=\"df-eb692249-8961-494a-8c48-feea59c09256\">\n",
              "    <div class=\"colab-df-container\">\n",
              "      <div>\n",
              "<style scoped>\n",
              "    .dataframe tbody tr th:only-of-type {\n",
              "        vertical-align: middle;\n",
              "    }\n",
              "\n",
              "    .dataframe tbody tr th {\n",
              "        vertical-align: top;\n",
              "    }\n",
              "\n",
              "    .dataframe thead th {\n",
              "        text-align: right;\n",
              "    }\n",
              "</style>\n",
              "<table border=\"1\" class=\"dataframe\">\n",
              "  <thead>\n",
              "    <tr style=\"text-align: right;\">\n",
              "      <th></th>\n",
              "      <th>Name</th>\n",
              "      <th>Platform</th>\n",
              "      <th>Year</th>\n",
              "      <th>Genre</th>\n",
              "      <th>Publisher</th>\n",
              "      <th>NA_Sales</th>\n",
              "      <th>EU_Sales</th>\n",
              "      <th>JP_Sales</th>\n",
              "      <th>Other_Sales</th>\n",
              "    </tr>\n",
              "  </thead>\n",
              "  <tbody>\n",
              "    <tr>\n",
              "      <th>16594</th>\n",
              "      <td>Ice Age 2: The Meltdown</td>\n",
              "      <td>GC</td>\n",
              "      <td>2006.0</td>\n",
              "      <td>Platform</td>\n",
              "      <td>Vivendi Games</td>\n",
              "      <td>0.15</td>\n",
              "      <td>0.04</td>\n",
              "      <td>0</td>\n",
              "      <td>0.01</td>\n",
              "    </tr>\n",
              "    <tr>\n",
              "      <th>16595</th>\n",
              "      <td>Rainbow Islands: Revolution</td>\n",
              "      <td>PSP</td>\n",
              "      <td>2005.0</td>\n",
              "      <td>Action</td>\n",
              "      <td>Rising Star Games</td>\n",
              "      <td>0.01</td>\n",
              "      <td>0</td>\n",
              "      <td>0</td>\n",
              "      <td>0</td>\n",
              "    </tr>\n",
              "    <tr>\n",
              "      <th>16596</th>\n",
              "      <td>NBA 2K16</td>\n",
              "      <td>PS3</td>\n",
              "      <td>2015.0</td>\n",
              "      <td>Sports</td>\n",
              "      <td>Take-Two Interactive</td>\n",
              "      <td>0.44</td>\n",
              "      <td>0.19</td>\n",
              "      <td>0.03</td>\n",
              "      <td>0.13</td>\n",
              "    </tr>\n",
              "    <tr>\n",
              "      <th>16597</th>\n",
              "      <td>Toukiden: The Age of Demons</td>\n",
              "      <td>PSV</td>\n",
              "      <td>2013.0</td>\n",
              "      <td>Action</td>\n",
              "      <td>Tecmo Koei</td>\n",
              "      <td>0.05</td>\n",
              "      <td>0.05</td>\n",
              "      <td>0.25</td>\n",
              "      <td>0.03</td>\n",
              "    </tr>\n",
              "    <tr>\n",
              "      <th>16598</th>\n",
              "      <td>The King of Fighters '95</td>\n",
              "      <td>PS</td>\n",
              "      <td>1996.0</td>\n",
              "      <td>Fighting</td>\n",
              "      <td>Sony Computer Entertainment</td>\n",
              "      <td>0</td>\n",
              "      <td>0</td>\n",
              "      <td>0.16</td>\n",
              "      <td>0.01</td>\n",
              "    </tr>\n",
              "  </tbody>\n",
              "</table>\n",
              "</div>\n",
              "      <button class=\"colab-df-convert\" onclick=\"convertToInteractive('df-eb692249-8961-494a-8c48-feea59c09256')\"\n",
              "              title=\"Convert this dataframe to an interactive table.\"\n",
              "              style=\"display:none;\">\n",
              "        \n",
              "  <svg xmlns=\"http://www.w3.org/2000/svg\" height=\"24px\"viewBox=\"0 0 24 24\"\n",
              "       width=\"24px\">\n",
              "    <path d=\"M0 0h24v24H0V0z\" fill=\"none\"/>\n",
              "    <path d=\"M18.56 5.44l.94 2.06.94-2.06 2.06-.94-2.06-.94-.94-2.06-.94 2.06-2.06.94zm-11 1L8.5 8.5l.94-2.06 2.06-.94-2.06-.94L8.5 2.5l-.94 2.06-2.06.94zm10 10l.94 2.06.94-2.06 2.06-.94-2.06-.94-.94-2.06-.94 2.06-2.06.94z\"/><path d=\"M17.41 7.96l-1.37-1.37c-.4-.4-.92-.59-1.43-.59-.52 0-1.04.2-1.43.59L10.3 9.45l-7.72 7.72c-.78.78-.78 2.05 0 2.83L4 21.41c.39.39.9.59 1.41.59.51 0 1.02-.2 1.41-.59l7.78-7.78 2.81-2.81c.8-.78.8-2.07 0-2.86zM5.41 20L4 18.59l7.72-7.72 1.47 1.35L5.41 20z\"/>\n",
              "  </svg>\n",
              "      </button>\n",
              "      \n",
              "  <style>\n",
              "    .colab-df-container {\n",
              "      display:flex;\n",
              "      flex-wrap:wrap;\n",
              "      gap: 12px;\n",
              "    }\n",
              "\n",
              "    .colab-df-convert {\n",
              "      background-color: #E8F0FE;\n",
              "      border: none;\n",
              "      border-radius: 50%;\n",
              "      cursor: pointer;\n",
              "      display: none;\n",
              "      fill: #1967D2;\n",
              "      height: 32px;\n",
              "      padding: 0 0 0 0;\n",
              "      width: 32px;\n",
              "    }\n",
              "\n",
              "    .colab-df-convert:hover {\n",
              "      background-color: #E2EBFA;\n",
              "      box-shadow: 0px 1px 2px rgba(60, 64, 67, 0.3), 0px 1px 3px 1px rgba(60, 64, 67, 0.15);\n",
              "      fill: #174EA6;\n",
              "    }\n",
              "\n",
              "    [theme=dark] .colab-df-convert {\n",
              "      background-color: #3B4455;\n",
              "      fill: #D2E3FC;\n",
              "    }\n",
              "\n",
              "    [theme=dark] .colab-df-convert:hover {\n",
              "      background-color: #434B5C;\n",
              "      box-shadow: 0px 1px 3px 1px rgba(0, 0, 0, 0.15);\n",
              "      filter: drop-shadow(0px 1px 2px rgba(0, 0, 0, 0.3));\n",
              "      fill: #FFFFFF;\n",
              "    }\n",
              "  </style>\n",
              "\n",
              "      <script>\n",
              "        const buttonEl =\n",
              "          document.querySelector('#df-eb692249-8961-494a-8c48-feea59c09256 button.colab-df-convert');\n",
              "        buttonEl.style.display =\n",
              "          google.colab.kernel.accessAllowed ? 'block' : 'none';\n",
              "\n",
              "        async function convertToInteractive(key) {\n",
              "          const element = document.querySelector('#df-eb692249-8961-494a-8c48-feea59c09256');\n",
              "          const dataTable =\n",
              "            await google.colab.kernel.invokeFunction('convertToInteractive',\n",
              "                                                     [key], {});\n",
              "          if (!dataTable) return;\n",
              "\n",
              "          const docLinkHtml = 'Like what you see? Visit the ' +\n",
              "            '<a target=\"_blank\" href=https://colab.research.google.com/notebooks/data_table.ipynb>data table notebook</a>'\n",
              "            + ' to learn more about interactive tables.';\n",
              "          element.innerHTML = '';\n",
              "          dataTable['output_type'] = 'display_data';\n",
              "          await google.colab.output.renderOutput(dataTable, element);\n",
              "          const docLink = document.createElement('div');\n",
              "          docLink.innerHTML = docLinkHtml;\n",
              "          element.appendChild(docLink);\n",
              "        }\n",
              "      </script>\n",
              "    </div>\n",
              "  </div>\n",
              "  "
            ]
          },
          "metadata": {},
          "execution_count": 7
        }
      ]
    },
    {
      "cell_type": "markdown",
      "source": [
        "# Data Wrangling : 탐색"
      ],
      "metadata": {
        "id": "4NGUREEH58NK"
      }
    },
    {
      "cell_type": "code",
      "source": [
        "df.Platform.unique()"
      ],
      "metadata": {
        "id": "lqx2_tBr4q0K",
        "outputId": "eba9b6ae-f5cf-4085-bade-a0b3e858c2fb",
        "colab": {
          "base_uri": "https://localhost:8080/"
        }
      },
      "execution_count": 8,
      "outputs": [
        {
          "output_type": "execute_result",
          "data": {
            "text/plain": [
              "array(['DS', 'Wii', 'PSP', 'PS3', 'PC', 'PS', 'GBA', 'PS4', 'PS2', 'XB',\n",
              "       'X360', 'GC', '3DS', '2600', 'SAT', 'GB', 'NES', 'DC', 'N64',\n",
              "       'XOne', 'SNES', 'WiiU', 'PSV', 'GEN', 'SCD', 'WS', 'NG', 'TG16',\n",
              "       '3DO', 'GG', 'PCFX'], dtype=object)"
            ]
          },
          "metadata": {},
          "execution_count": 8
        }
      ]
    },
    {
      "cell_type": "code",
      "source": [
        "df.Genre.unique()"
      ],
      "metadata": {
        "id": "r-098k4B6Gzy",
        "outputId": "fdb6670f-2f58-40e4-a13a-01d7979e432e",
        "colab": {
          "base_uri": "https://localhost:8080/"
        }
      },
      "execution_count": 9,
      "outputs": [
        {
          "output_type": "execute_result",
          "data": {
            "text/plain": [
              "array(['Action', 'Adventure', 'Misc', 'Platform', 'Sports', 'Simulation',\n",
              "       'Racing', 'Role-Playing', 'Puzzle', 'Strategy', 'Fighting',\n",
              "       'Shooter', nan], dtype=object)"
            ]
          },
          "metadata": {},
          "execution_count": 9
        }
      ]
    },
    {
      "cell_type": "code",
      "source": [
        "df.NA_Sales.unique()"
      ],
      "metadata": {
        "id": "WfIgj_CaEgk8",
        "outputId": "a0873ff7-d8f6-4850-ca5d-b580f93b2d68",
        "colab": {
          "base_uri": "https://localhost:8080/"
        }
      },
      "execution_count": 10,
      "outputs": [
        {
          "output_type": "execute_result",
          "data": {
            "text/plain": [
              "array(['0.04', '0.17', '0', '0.12', '0.02', '0.07', '480K', '0.14',\n",
              "       '0.01', '0.57', '0.06', '0.08', '0.48', '0.03', '0.05', '1.93',\n",
              "       '0.29', '0.19', '0.3', '0.26', '0.11', '0.18', '0.33', '0.51',\n",
              "       '60K', '0.13', '0.52', '0.34', '0.25', '0.41', '0.22', '0.35',\n",
              "       '0.1', '0.67', '0.59', '0.36', '0.21', '1.19', '5.91', '1.98',\n",
              "       '0.09', '0K', '0.5', '0.94', '0.16', '0.63', '0.43', '0.2', '1.23',\n",
              "       '0.44', '0.42', '0.97', '2.67', '0.28', '6.05', '0.47', '0.49',\n",
              "       '0.62', '0.24', '0.72', '1.74', '0.46', '0.65', '0.32', '1.53',\n",
              "       '0.23', '0.53', '0.37', '1.26', '0.39', '0.58', '1.94', '2.31',\n",
              "       '1.03', '0.82', '0.4', '0.93', '0.56', '0.96', '1.64', '0.69',\n",
              "       '1.25', '0.27', '0.92', '0.58M', '1.24', '0.25M', '0.86', '0.73',\n",
              "       '0.55', '1.54', '1.02', '1.27', '0.54', '0.15', '1.09', '3.44',\n",
              "       '2.29', '0.88', '5.55M', '1.37', '2.3', '0.99', '1.15', '0.98',\n",
              "       '0.75', '0.74', '0.7', '0.14M', '0.45', '1.2', '1.41', '0.68',\n",
              "       '1.23M', '1.56', '0.31', '1.45', '1.11', '2.9', '0M', '0.83',\n",
              "       '0.78', '3.38', '0.64', '1.08', '0.38', '1.47', '0.06M', '0.77',\n",
              "       '1.05', '6.85', '3.83', '3.79', '1.13M', '0.9', '3.78', '1.89',\n",
              "       '1.17', '4.03', '0.89', '0.61', '0.71', '23.2', '1.44', '1.31',\n",
              "       '3.06', '3.14', '1.66', '0.79', '1.39', '0.31M', '490K', '1.85',\n",
              "       '0.76', '2.06', '1.36', '1.3', '1.06', '1.1', '240K', '2.08',\n",
              "       '1.04', '0.66', '2.64', '1.58', '0.05M', '3.11', '4.34', '150K',\n",
              "       '1.78', '0.85', '2.91', '0.13M', '1', '1.01', '4100K', '5170K',\n",
              "       '1.07', '3.8', '2.5', '2.2', '1.5', '1.91', '0.95', '2.03', '2.1',\n",
              "       '1.4', '3.18', '1.73', '1.12', '1.72', '2.05', '1.63', '1.22',\n",
              "       '1.13', '1.49', '2.55', '0.87', '0.81', '0.6', '0.61M', '2.62',\n",
              "       '0.84', '2.38', '1.32', '20K', '3.02', '1.75', '2.02', '1.82',\n",
              "       '1.68', '9.03', '2.56', '1.87', '2.65', '1.48', '3.19', '1.33',\n",
              "       '41.49', '30K', '1.16', '1.21', '0.02M', '2.52', '2.28', '5.99',\n",
              "       '14.03', '2.93', '2.45', '0.11M', '2.14', '2.99', '0.01M', '2.6',\n",
              "       '1.35', '0.36M', '50K', '1.28', '2.95', '70K', '1.86', '15.75',\n",
              "       '1.18', '1.42', '8.94', '7.01', '190K', '1.57', '1.62', '0.91',\n",
              "       '0.8', '2.09', '1.96', '1.52', '2.39', '1.79', '0.21M', '0.43M',\n",
              "       '2.19', '1.43', '1.76', '2.78', '1.3M', '1.71', '29.08', '3.13',\n",
              "       '3.1', '4.99', '4.23', '2.35', '14.97', '1.65', '1210K', '2.26',\n",
              "       '3.64', '350K', '2.71', '3.49', '3.33', '1.46', '1.7', '4.4',\n",
              "       '4.02', '2.53', '1610K', '2.01', '100K', '1.55', '4.47', '1.9',\n",
              "       '2.25', '3.98', '2.51', '1.61', '1.84', '1.81', '170K', '8.41',\n",
              "       '2.11', '2.74', '2.42', '3.92', '6.72', '2.54', '4', '0.9M', '40K',\n",
              "       '2.12', '7.28', '2.13', '1.59', '1.88', '3.39', '450K', '2.96',\n",
              "       '8.52', '2.82', '9.67', '7.97', '8.25', '1.67', '1.51', '6.91',\n",
              "       '3.88', '3.27', '4.14', '1.92', '220K', '1.29', '2.04', '1.11M',\n",
              "       '310K', '0.07M', '2.15', '6.16', '4.09', '11.38', '4.26', '1.69',\n",
              "       '1.34', '820K', '2.17', '80K', '4.36', '2.8', '290K', '3.05',\n",
              "       '130K', '5.39', '2.66M', '2.47', '4.15', '4.46', '1.18M', '11.27',\n",
              "       '1.38', '3.66', '4.12', '0.55M', '2.41', '2.57', '2', '2.58',\n",
              "       '5.89', '2.18', '1.99', '2.72', '2.36', '120K', '0.08M', '0.22M',\n",
              "       '5.77', '3.68', '3.23', '5.84', '9', '2.85', '10.83', '6.82',\n",
              "       '3.54', '0.3M', '0.04M', '3.42', '6.99', '1780K', '2930K', '1.14',\n",
              "       '2.49', '5.98', '2.33', '1.97', '5.58', '0.15M', '0.1M', '3.7',\n",
              "       '2.07', '4.41', '1.83', '0.29M', '4.98', '770K', '10K', '280K',\n",
              "       '2.43', '26.93', '6.42', '3.81', '5.57', '9.81', '0.37M', '0.12M',\n",
              "       '3.28', '3.74', '540K', '2.66', '9.09', '1.77', '9.63M', '6.06',\n",
              "       '4.79', '2.59', '2.48', '0.34M', '2.97', '2.63', '4.74', '9.07',\n",
              "       '0.26M', '3.51', '1.6', '5.03', '3.22', '3.01', '2.22', '2.77',\n",
              "       '3.25', '550K', '2010K', '5.8', '3.59', '2.4', '1.95', '0.18M',\n",
              "       '5.08', '2.84', '15.85', '7.03M', '4.89', '3.24', '4.01', '340K',\n",
              "       '2.32', '3.4', '90K', '12.78', '2.21', '3.36', '4.75', '600K',\n",
              "       '0.46M', '0.03M', '6.76', '2570K', '3', '4.05', '5.54', '0.72M',\n",
              "       '2.75', '3.21', '6.63', '9.43', '3.03', '3.5', '2.7', '0.96M',\n",
              "       '9.54', '6.75', '3.63', '270K', '420K', '0.28M', '2.79', '4.21',\n",
              "       '2.23', '4.52', '0.45M', '720K', '2.89', '0.53M', '4.76', '470K',\n",
              "       '14.59', '320K', '4.18'], dtype=object)"
            ]
          },
          "metadata": {},
          "execution_count": 10
        }
      ]
    },
    {
      "cell_type": "markdown",
      "source": [
        "# Data Wrangling : 문제 정의\n",
        "\n",
        "+ 총 16598개의 관측치가 있으며, \n",
        "  + Year column에 271 개의 결측치,\n",
        "  + Genre column에 50 개의 결측치\n",
        "  + Publisher column에 58 개의 결측치  \n",
        "  가 관찰됨.\n",
        "\n",
        "+ 이산형 데이터인 year 네자리수가 아닌 방법으로 표현된 경우가 있으며, float형으로 설정되어 있음. -> int형으로 전환\n",
        "+ 판매량이 object형이며 세가지 형태(420K 0.28M 0.01)로 표현 -> int형으로 전환\n",
        "+ 구조적으로 Tidy하지 못한 데이터(\tNA_Sales\tEU_Sales\tJP_Sales\tOther_Sales) -> Location,Sales 칼럼으로 전환"
      ],
      "metadata": {
        "id": "VSRISU406-5K"
      }
    },
    {
      "cell_type": "code",
      "source": [
        "# Year의 NaN 데이터 개수 확인 \n",
        "year_NaN_count = df.Year.isna().sum()\n",
        "genre_NaN_count = df.Genre.isna().sum()\n",
        "publisher_NaN_count = df.Publisher.isna().sum()\n",
        "print(year_NaN_count, genre_NaN_count, publisher_NaN_count)"
      ],
      "metadata": {
        "id": "Cn5FwU8b_2cJ",
        "outputId": "c675499a-58ca-4ff0-8bbd-00f0ff26532d",
        "colab": {
          "base_uri": "https://localhost:8080/"
        }
      },
      "execution_count": 11,
      "outputs": [
        {
          "output_type": "stream",
          "name": "stdout",
          "text": [
            "271 50 58\n"
          ]
        }
      ]
    },
    {
      "cell_type": "code",
      "source": [
        "# 연도를 추측할 방법이 없음으로, drop 고려\n",
        "# 결측치 비율 계산\n",
        "ratio = (year_NaN_count+genre_NaN_count+publisher_NaN_count) / df.shape[0] * 100\n",
        "print(ratio)"
      ],
      "metadata": {
        "id": "0Ehuzae7I0kZ",
        "outputId": "78162bd1-02e1-4088-fc9a-5fc3fad937f0",
        "colab": {
          "base_uri": "https://localhost:8080/"
        }
      },
      "execution_count": 12,
      "outputs": [
        {
          "output_type": "stream",
          "name": "stdout",
          "text": [
            "2.2834076394746354\n"
          ]
        }
      ]
    },
    {
      "cell_type": "code",
      "source": [
        "# 결측치가 모두 다른 관측치에서 발견된다 가정해도, \n",
        "# 전체 중 2.28%로 5% 미만 임으로 결측치로 제거하여도 큰 영향이 없음.\n",
        "df = df.dropna(axis=0)\n",
        "df.isna().sum()"
      ],
      "metadata": {
        "id": "XnZuM9hjJMFu",
        "outputId": "ab042722-a845-44ef-997e-6ed1292de136",
        "colab": {
          "base_uri": "https://localhost:8080/"
        }
      },
      "execution_count": 13,
      "outputs": [
        {
          "output_type": "execute_result",
          "data": {
            "text/plain": [
              "Name           0\n",
              "Platform       0\n",
              "Year           0\n",
              "Genre          0\n",
              "Publisher      0\n",
              "NA_Sales       0\n",
              "EU_Sales       0\n",
              "JP_Sales       0\n",
              "Other_Sales    0\n",
              "dtype: int64"
            ]
          },
          "metadata": {},
          "execution_count": 13
        }
      ]
    },
    {
      "cell_type": "code",
      "source": [
        "# drop 후 인덱스 재정렬\n",
        "df = df.reset_index(drop=True)"
      ],
      "metadata": {
        "id": "VK1KuVIm-nho"
      },
      "execution_count": 14,
      "outputs": []
    },
    {
      "cell_type": "code",
      "source": [
        "# Year의 숫자가 23 미만인 경우 2000을 더해줘 연도를 수정\n",
        "for i, x in enumerate(df.query(\"Year < 23\")[\"Year\"].index) :\n",
        "  df.iloc[x, 2] = df.iloc[x, 2] + 2000"
      ],
      "metadata": {
        "id": "lhmejDkb3j4s"
      },
      "execution_count": 15,
      "outputs": []
    },
    {
      "cell_type": "code",
      "source": [
        "# Year의 숫자가 23 이상, 1000 미만인 경우 1900을 더해줘 연도를 수정\n",
        "for i, x in enumerate(df.query(\"23 <= Year < 1000\").index) :\n",
        "  df.iloc[x, 2] = df.iloc[x, 2] + 1900"
      ],
      "metadata": {
        "id": "EX4Q1npv7nVR"
      },
      "execution_count": 16,
      "outputs": []
    },
    {
      "cell_type": "code",
      "source": [
        "# df.year 의 데이터 타입 전환\n",
        "df = df.astype({'Year':'int'})"
      ],
      "metadata": {
        "id": "inOwm0ed6zMK"
      },
      "execution_count": 17,
      "outputs": []
    },
    {
      "cell_type": "code",
      "source": [
        "df.info()"
      ],
      "metadata": {
        "id": "8SiEt7xAqaaH",
        "outputId": "da118c33-c425-41e8-ba4d-48d9df7cb9cd",
        "colab": {
          "base_uri": "https://localhost:8080/"
        }
      },
      "execution_count": 18,
      "outputs": [
        {
          "output_type": "stream",
          "name": "stdout",
          "text": [
            "<class 'pandas.core.frame.DataFrame'>\n",
            "RangeIndex: 16241 entries, 0 to 16240\n",
            "Data columns (total 9 columns):\n",
            " #   Column       Non-Null Count  Dtype \n",
            "---  ------       --------------  ----- \n",
            " 0   Name         16241 non-null  object\n",
            " 1   Platform     16241 non-null  object\n",
            " 2   Year         16241 non-null  int64 \n",
            " 3   Genre        16241 non-null  object\n",
            " 4   Publisher    16241 non-null  object\n",
            " 5   NA_Sales     16241 non-null  object\n",
            " 6   EU_Sales     16241 non-null  object\n",
            " 7   JP_Sales     16241 non-null  object\n",
            " 8   Other_Sales  16241 non-null  object\n",
            "dtypes: int64(1), object(8)\n",
            "memory usage: 1.1+ MB\n"
          ]
        }
      ]
    },
    {
      "cell_type": "code",
      "source": [
        "# tidy data로 전환\n",
        "df = df.melt(id_vars=['Name', 'Platform', 'Year', 'Genre', 'Publisher'], value_vars=['NA_Sales', 'EU_Sales', 'JP_Sales', 'Other_Sales'])\n",
        "df = df.rename(columns = {'variable' :'Location', 'value':'Sales'})    \n",
        "df[\"Location\"] = df[\"Location\"].str.replace(\"_Sales\", \"\")"
      ],
      "metadata": {
        "id": "bO-baSF5pkRl"
      },
      "execution_count": 19,
      "outputs": []
    },
    {
      "cell_type": "code",
      "source": [
        "df"
      ],
      "metadata": {
        "id": "KC3I4JP3qnDA",
        "outputId": "2dae2a89-42a4-4cd2-f4db-2537ff86b4ea",
        "colab": {
          "base_uri": "https://localhost:8080/",
          "height": 424
        }
      },
      "execution_count": 20,
      "outputs": [
        {
          "output_type": "execute_result",
          "data": {
            "text/plain": [
              "                                                 Name Platform  Year  \\\n",
              "0                        Candace Kane's Candy Factory       DS  2008   \n",
              "1                                      The Munchables      Wii  2009   \n",
              "2      Otome wa Oanesama Boku ni Koi Shiteru Portable      PSP  2010   \n",
              "3                    Deal or No Deal: Special Edition       DS  2010   \n",
              "4           Ben 10 Ultimate Alien: Cosmic Destruction      PS3  2010   \n",
              "...                                               ...      ...   ...   \n",
              "64959                         Ice Age 2: The Meltdown       GC  2006   \n",
              "64960                     Rainbow Islands: Revolution      PSP  2005   \n",
              "64961                                        NBA 2K16      PS3  2015   \n",
              "64962                     Toukiden: The Age of Demons      PSV  2013   \n",
              "64963                        The King of Fighters '95       PS  1996   \n",
              "\n",
              "           Genre                    Publisher Location Sales  \n",
              "0         Action                    Destineer       NA  0.04  \n",
              "1         Action           Namco Bandai Games       NA  0.17  \n",
              "2      Adventure                    Alchemist       NA     0  \n",
              "3           Misc                    Zoo Games       NA  0.04  \n",
              "4       Platform                  D3Publisher       NA  0.12  \n",
              "...          ...                          ...      ...   ...  \n",
              "64959   Platform                Vivendi Games    Other  0.01  \n",
              "64960     Action            Rising Star Games    Other     0  \n",
              "64961     Sports         Take-Two Interactive    Other  0.13  \n",
              "64962     Action                   Tecmo Koei    Other  0.03  \n",
              "64963   Fighting  Sony Computer Entertainment    Other  0.01  \n",
              "\n",
              "[64964 rows x 7 columns]"
            ],
            "text/html": [
              "\n",
              "  <div id=\"df-32db5458-892f-41a3-950d-c69d6812358b\">\n",
              "    <div class=\"colab-df-container\">\n",
              "      <div>\n",
              "<style scoped>\n",
              "    .dataframe tbody tr th:only-of-type {\n",
              "        vertical-align: middle;\n",
              "    }\n",
              "\n",
              "    .dataframe tbody tr th {\n",
              "        vertical-align: top;\n",
              "    }\n",
              "\n",
              "    .dataframe thead th {\n",
              "        text-align: right;\n",
              "    }\n",
              "</style>\n",
              "<table border=\"1\" class=\"dataframe\">\n",
              "  <thead>\n",
              "    <tr style=\"text-align: right;\">\n",
              "      <th></th>\n",
              "      <th>Name</th>\n",
              "      <th>Platform</th>\n",
              "      <th>Year</th>\n",
              "      <th>Genre</th>\n",
              "      <th>Publisher</th>\n",
              "      <th>Location</th>\n",
              "      <th>Sales</th>\n",
              "    </tr>\n",
              "  </thead>\n",
              "  <tbody>\n",
              "    <tr>\n",
              "      <th>0</th>\n",
              "      <td>Candace Kane's Candy Factory</td>\n",
              "      <td>DS</td>\n",
              "      <td>2008</td>\n",
              "      <td>Action</td>\n",
              "      <td>Destineer</td>\n",
              "      <td>NA</td>\n",
              "      <td>0.04</td>\n",
              "    </tr>\n",
              "    <tr>\n",
              "      <th>1</th>\n",
              "      <td>The Munchables</td>\n",
              "      <td>Wii</td>\n",
              "      <td>2009</td>\n",
              "      <td>Action</td>\n",
              "      <td>Namco Bandai Games</td>\n",
              "      <td>NA</td>\n",
              "      <td>0.17</td>\n",
              "    </tr>\n",
              "    <tr>\n",
              "      <th>2</th>\n",
              "      <td>Otome wa Oanesama Boku ni Koi Shiteru Portable</td>\n",
              "      <td>PSP</td>\n",
              "      <td>2010</td>\n",
              "      <td>Adventure</td>\n",
              "      <td>Alchemist</td>\n",
              "      <td>NA</td>\n",
              "      <td>0</td>\n",
              "    </tr>\n",
              "    <tr>\n",
              "      <th>3</th>\n",
              "      <td>Deal or No Deal: Special Edition</td>\n",
              "      <td>DS</td>\n",
              "      <td>2010</td>\n",
              "      <td>Misc</td>\n",
              "      <td>Zoo Games</td>\n",
              "      <td>NA</td>\n",
              "      <td>0.04</td>\n",
              "    </tr>\n",
              "    <tr>\n",
              "      <th>4</th>\n",
              "      <td>Ben 10 Ultimate Alien: Cosmic Destruction</td>\n",
              "      <td>PS3</td>\n",
              "      <td>2010</td>\n",
              "      <td>Platform</td>\n",
              "      <td>D3Publisher</td>\n",
              "      <td>NA</td>\n",
              "      <td>0.12</td>\n",
              "    </tr>\n",
              "    <tr>\n",
              "      <th>...</th>\n",
              "      <td>...</td>\n",
              "      <td>...</td>\n",
              "      <td>...</td>\n",
              "      <td>...</td>\n",
              "      <td>...</td>\n",
              "      <td>...</td>\n",
              "      <td>...</td>\n",
              "    </tr>\n",
              "    <tr>\n",
              "      <th>64959</th>\n",
              "      <td>Ice Age 2: The Meltdown</td>\n",
              "      <td>GC</td>\n",
              "      <td>2006</td>\n",
              "      <td>Platform</td>\n",
              "      <td>Vivendi Games</td>\n",
              "      <td>Other</td>\n",
              "      <td>0.01</td>\n",
              "    </tr>\n",
              "    <tr>\n",
              "      <th>64960</th>\n",
              "      <td>Rainbow Islands: Revolution</td>\n",
              "      <td>PSP</td>\n",
              "      <td>2005</td>\n",
              "      <td>Action</td>\n",
              "      <td>Rising Star Games</td>\n",
              "      <td>Other</td>\n",
              "      <td>0</td>\n",
              "    </tr>\n",
              "    <tr>\n",
              "      <th>64961</th>\n",
              "      <td>NBA 2K16</td>\n",
              "      <td>PS3</td>\n",
              "      <td>2015</td>\n",
              "      <td>Sports</td>\n",
              "      <td>Take-Two Interactive</td>\n",
              "      <td>Other</td>\n",
              "      <td>0.13</td>\n",
              "    </tr>\n",
              "    <tr>\n",
              "      <th>64962</th>\n",
              "      <td>Toukiden: The Age of Demons</td>\n",
              "      <td>PSV</td>\n",
              "      <td>2013</td>\n",
              "      <td>Action</td>\n",
              "      <td>Tecmo Koei</td>\n",
              "      <td>Other</td>\n",
              "      <td>0.03</td>\n",
              "    </tr>\n",
              "    <tr>\n",
              "      <th>64963</th>\n",
              "      <td>The King of Fighters '95</td>\n",
              "      <td>PS</td>\n",
              "      <td>1996</td>\n",
              "      <td>Fighting</td>\n",
              "      <td>Sony Computer Entertainment</td>\n",
              "      <td>Other</td>\n",
              "      <td>0.01</td>\n",
              "    </tr>\n",
              "  </tbody>\n",
              "</table>\n",
              "<p>64964 rows × 7 columns</p>\n",
              "</div>\n",
              "      <button class=\"colab-df-convert\" onclick=\"convertToInteractive('df-32db5458-892f-41a3-950d-c69d6812358b')\"\n",
              "              title=\"Convert this dataframe to an interactive table.\"\n",
              "              style=\"display:none;\">\n",
              "        \n",
              "  <svg xmlns=\"http://www.w3.org/2000/svg\" height=\"24px\"viewBox=\"0 0 24 24\"\n",
              "       width=\"24px\">\n",
              "    <path d=\"M0 0h24v24H0V0z\" fill=\"none\"/>\n",
              "    <path d=\"M18.56 5.44l.94 2.06.94-2.06 2.06-.94-2.06-.94-.94-2.06-.94 2.06-2.06.94zm-11 1L8.5 8.5l.94-2.06 2.06-.94-2.06-.94L8.5 2.5l-.94 2.06-2.06.94zm10 10l.94 2.06.94-2.06 2.06-.94-2.06-.94-.94-2.06-.94 2.06-2.06.94z\"/><path d=\"M17.41 7.96l-1.37-1.37c-.4-.4-.92-.59-1.43-.59-.52 0-1.04.2-1.43.59L10.3 9.45l-7.72 7.72c-.78.78-.78 2.05 0 2.83L4 21.41c.39.39.9.59 1.41.59.51 0 1.02-.2 1.41-.59l7.78-7.78 2.81-2.81c.8-.78.8-2.07 0-2.86zM5.41 20L4 18.59l7.72-7.72 1.47 1.35L5.41 20z\"/>\n",
              "  </svg>\n",
              "      </button>\n",
              "      \n",
              "  <style>\n",
              "    .colab-df-container {\n",
              "      display:flex;\n",
              "      flex-wrap:wrap;\n",
              "      gap: 12px;\n",
              "    }\n",
              "\n",
              "    .colab-df-convert {\n",
              "      background-color: #E8F0FE;\n",
              "      border: none;\n",
              "      border-radius: 50%;\n",
              "      cursor: pointer;\n",
              "      display: none;\n",
              "      fill: #1967D2;\n",
              "      height: 32px;\n",
              "      padding: 0 0 0 0;\n",
              "      width: 32px;\n",
              "    }\n",
              "\n",
              "    .colab-df-convert:hover {\n",
              "      background-color: #E2EBFA;\n",
              "      box-shadow: 0px 1px 2px rgba(60, 64, 67, 0.3), 0px 1px 3px 1px rgba(60, 64, 67, 0.15);\n",
              "      fill: #174EA6;\n",
              "    }\n",
              "\n",
              "    [theme=dark] .colab-df-convert {\n",
              "      background-color: #3B4455;\n",
              "      fill: #D2E3FC;\n",
              "    }\n",
              "\n",
              "    [theme=dark] .colab-df-convert:hover {\n",
              "      background-color: #434B5C;\n",
              "      box-shadow: 0px 1px 3px 1px rgba(0, 0, 0, 0.15);\n",
              "      filter: drop-shadow(0px 1px 2px rgba(0, 0, 0, 0.3));\n",
              "      fill: #FFFFFF;\n",
              "    }\n",
              "  </style>\n",
              "\n",
              "      <script>\n",
              "        const buttonEl =\n",
              "          document.querySelector('#df-32db5458-892f-41a3-950d-c69d6812358b button.colab-df-convert');\n",
              "        buttonEl.style.display =\n",
              "          google.colab.kernel.accessAllowed ? 'block' : 'none';\n",
              "\n",
              "        async function convertToInteractive(key) {\n",
              "          const element = document.querySelector('#df-32db5458-892f-41a3-950d-c69d6812358b');\n",
              "          const dataTable =\n",
              "            await google.colab.kernel.invokeFunction('convertToInteractive',\n",
              "                                                     [key], {});\n",
              "          if (!dataTable) return;\n",
              "\n",
              "          const docLinkHtml = 'Like what you see? Visit the ' +\n",
              "            '<a target=\"_blank\" href=https://colab.research.google.com/notebooks/data_table.ipynb>data table notebook</a>'\n",
              "            + ' to learn more about interactive tables.';\n",
              "          element.innerHTML = '';\n",
              "          dataTable['output_type'] = 'display_data';\n",
              "          await google.colab.output.renderOutput(dataTable, element);\n",
              "          const docLink = document.createElement('div');\n",
              "          docLink.innerHTML = docLinkHtml;\n",
              "          element.appendChild(docLink);\n",
              "        }\n",
              "      </script>\n",
              "    </div>\n",
              "  </div>\n",
              "  "
            ]
          },
          "metadata": {},
          "execution_count": 20
        }
      ]
    },
    {
      "cell_type": "code",
      "source": [
        "# 판매량이 세가지 형태로 표현. x.xx, x.xxM, xxxK\n",
        "# Sales에 대해서 세가지 형태(문자 포함 x, M 포함, K 포함)로만 칼럼이 이루어 지는지 확인\n",
        "df.shape[0] == df[~df.Sales.str.contains(\"M\")&~df.Sales.str.contains(\"K\")][\"Sales\"].count() + df[df.Sales.str.contains(\"M\")][\"Sales\"].count() + df[df.Sales.str.contains(\"K\")][\"Sales\"].count()"
      ],
      "metadata": {
        "id": "n32Df0Ocbfq_",
        "outputId": "c6dd6d7e-d8d6-4b30-8e8a-52f8b5507d64",
        "colab": {
          "base_uri": "https://localhost:8080/"
        }
      },
      "execution_count": 21,
      "outputs": [
        {
          "output_type": "execute_result",
          "data": {
            "text/plain": [
              "True"
            ]
          },
          "metadata": {},
          "execution_count": 21
        }
      ]
    },
    {
      "cell_type": "code",
      "source": [
        "# scale을 표시하기 위한 column 추가\n",
        "df[\"Scale\"] = np.repeat(0, len(df))"
      ],
      "metadata": {
        "id": "wWp4IkC2jZQP"
      },
      "execution_count": 22,
      "outputs": []
    },
    {
      "cell_type": "code",
      "source": [
        "for i in df[df[\"Sales\"].str.contains(\"K\")].index:\n",
        "  df.loc[i, \"Scale\"] = 1000\n",
        "for i in df[~df[\"Sales\"].str.contains(\"K\")].index:\n",
        "  df.loc[i, \"Scale\"] = 1000000"
      ],
      "metadata": {
        "id": "adlExDAMoNxD"
      },
      "execution_count": 23,
      "outputs": []
    },
    {
      "cell_type": "code",
      "source": [
        "# 판매량을 수치형으로 표현하기 위해, \"M\",\"K\" 제거\n",
        "df[\"Sales\"] = df[\"Sales\"].str.replace(\"M\", \"\")\n",
        "df[\"Sales\"] = df[\"Sales\"].str.replace(\"K\", \"\")"
      ],
      "metadata": {
        "id": "xwBsQntds1pN"
      },
      "execution_count": 24,
      "outputs": []
    },
    {
      "cell_type": "code",
      "source": [
        "# 판매량 계산을 위해 float형으로 전환\n",
        "df[\"Sales\"] = df[\"Sales\"].astype(float)"
      ],
      "metadata": {
        "id": "W6mBDkHWtkjs"
      },
      "execution_count": 25,
      "outputs": []
    },
    {
      "cell_type": "code",
      "source": [
        "# 판매량 계산 후 업데이트\n",
        "df[\"Sales\"] = df[\"Sales\"] * df[\"Scale\"]"
      ],
      "metadata": {
        "id": "Omxw9bBlzPsu"
      },
      "execution_count": 26,
      "outputs": []
    },
    {
      "cell_type": "code",
      "source": [
        "# 판매량을 int형으로 전환\n",
        "df[\"Sales\"] = df[\"Sales\"].astype(int)"
      ],
      "metadata": {
        "id": "eOFdiHZyu0Bs"
      },
      "execution_count": 27,
      "outputs": []
    },
    {
      "cell_type": "code",
      "source": [
        "# 계산을 마친 Scale 칼럼 버리기\n",
        "df = df.iloc[:,:-1]"
      ],
      "metadata": {
        "id": "_fJ2-qwPyHBE"
      },
      "execution_count": 28,
      "outputs": []
    },
    {
      "cell_type": "code",
      "source": [
        "df"
      ],
      "metadata": {
        "id": "LzEtAMIOz8ML",
        "outputId": "2c24831f-a0f4-4a3d-9474-a59c7348ae8f",
        "colab": {
          "base_uri": "https://localhost:8080/",
          "height": 424
        }
      },
      "execution_count": 29,
      "outputs": [
        {
          "output_type": "execute_result",
          "data": {
            "text/plain": [
              "                                                 Name Platform  Year  \\\n",
              "0                        Candace Kane's Candy Factory       DS  2008   \n",
              "1                                      The Munchables      Wii  2009   \n",
              "2      Otome wa Oanesama Boku ni Koi Shiteru Portable      PSP  2010   \n",
              "3                    Deal or No Deal: Special Edition       DS  2010   \n",
              "4           Ben 10 Ultimate Alien: Cosmic Destruction      PS3  2010   \n",
              "...                                               ...      ...   ...   \n",
              "64959                         Ice Age 2: The Meltdown       GC  2006   \n",
              "64960                     Rainbow Islands: Revolution      PSP  2005   \n",
              "64961                                        NBA 2K16      PS3  2015   \n",
              "64962                     Toukiden: The Age of Demons      PSV  2013   \n",
              "64963                        The King of Fighters '95       PS  1996   \n",
              "\n",
              "           Genre                    Publisher Location   Sales  \n",
              "0         Action                    Destineer       NA   40000  \n",
              "1         Action           Namco Bandai Games       NA  170000  \n",
              "2      Adventure                    Alchemist       NA       0  \n",
              "3           Misc                    Zoo Games       NA   40000  \n",
              "4       Platform                  D3Publisher       NA  120000  \n",
              "...          ...                          ...      ...     ...  \n",
              "64959   Platform                Vivendi Games    Other   10000  \n",
              "64960     Action            Rising Star Games    Other       0  \n",
              "64961     Sports         Take-Two Interactive    Other  130000  \n",
              "64962     Action                   Tecmo Koei    Other   30000  \n",
              "64963   Fighting  Sony Computer Entertainment    Other   10000  \n",
              "\n",
              "[64964 rows x 7 columns]"
            ],
            "text/html": [
              "\n",
              "  <div id=\"df-96a4441b-66c9-4e97-ad2c-ef04330b5200\">\n",
              "    <div class=\"colab-df-container\">\n",
              "      <div>\n",
              "<style scoped>\n",
              "    .dataframe tbody tr th:only-of-type {\n",
              "        vertical-align: middle;\n",
              "    }\n",
              "\n",
              "    .dataframe tbody tr th {\n",
              "        vertical-align: top;\n",
              "    }\n",
              "\n",
              "    .dataframe thead th {\n",
              "        text-align: right;\n",
              "    }\n",
              "</style>\n",
              "<table border=\"1\" class=\"dataframe\">\n",
              "  <thead>\n",
              "    <tr style=\"text-align: right;\">\n",
              "      <th></th>\n",
              "      <th>Name</th>\n",
              "      <th>Platform</th>\n",
              "      <th>Year</th>\n",
              "      <th>Genre</th>\n",
              "      <th>Publisher</th>\n",
              "      <th>Location</th>\n",
              "      <th>Sales</th>\n",
              "    </tr>\n",
              "  </thead>\n",
              "  <tbody>\n",
              "    <tr>\n",
              "      <th>0</th>\n",
              "      <td>Candace Kane's Candy Factory</td>\n",
              "      <td>DS</td>\n",
              "      <td>2008</td>\n",
              "      <td>Action</td>\n",
              "      <td>Destineer</td>\n",
              "      <td>NA</td>\n",
              "      <td>40000</td>\n",
              "    </tr>\n",
              "    <tr>\n",
              "      <th>1</th>\n",
              "      <td>The Munchables</td>\n",
              "      <td>Wii</td>\n",
              "      <td>2009</td>\n",
              "      <td>Action</td>\n",
              "      <td>Namco Bandai Games</td>\n",
              "      <td>NA</td>\n",
              "      <td>170000</td>\n",
              "    </tr>\n",
              "    <tr>\n",
              "      <th>2</th>\n",
              "      <td>Otome wa Oanesama Boku ni Koi Shiteru Portable</td>\n",
              "      <td>PSP</td>\n",
              "      <td>2010</td>\n",
              "      <td>Adventure</td>\n",
              "      <td>Alchemist</td>\n",
              "      <td>NA</td>\n",
              "      <td>0</td>\n",
              "    </tr>\n",
              "    <tr>\n",
              "      <th>3</th>\n",
              "      <td>Deal or No Deal: Special Edition</td>\n",
              "      <td>DS</td>\n",
              "      <td>2010</td>\n",
              "      <td>Misc</td>\n",
              "      <td>Zoo Games</td>\n",
              "      <td>NA</td>\n",
              "      <td>40000</td>\n",
              "    </tr>\n",
              "    <tr>\n",
              "      <th>4</th>\n",
              "      <td>Ben 10 Ultimate Alien: Cosmic Destruction</td>\n",
              "      <td>PS3</td>\n",
              "      <td>2010</td>\n",
              "      <td>Platform</td>\n",
              "      <td>D3Publisher</td>\n",
              "      <td>NA</td>\n",
              "      <td>120000</td>\n",
              "    </tr>\n",
              "    <tr>\n",
              "      <th>...</th>\n",
              "      <td>...</td>\n",
              "      <td>...</td>\n",
              "      <td>...</td>\n",
              "      <td>...</td>\n",
              "      <td>...</td>\n",
              "      <td>...</td>\n",
              "      <td>...</td>\n",
              "    </tr>\n",
              "    <tr>\n",
              "      <th>64959</th>\n",
              "      <td>Ice Age 2: The Meltdown</td>\n",
              "      <td>GC</td>\n",
              "      <td>2006</td>\n",
              "      <td>Platform</td>\n",
              "      <td>Vivendi Games</td>\n",
              "      <td>Other</td>\n",
              "      <td>10000</td>\n",
              "    </tr>\n",
              "    <tr>\n",
              "      <th>64960</th>\n",
              "      <td>Rainbow Islands: Revolution</td>\n",
              "      <td>PSP</td>\n",
              "      <td>2005</td>\n",
              "      <td>Action</td>\n",
              "      <td>Rising Star Games</td>\n",
              "      <td>Other</td>\n",
              "      <td>0</td>\n",
              "    </tr>\n",
              "    <tr>\n",
              "      <th>64961</th>\n",
              "      <td>NBA 2K16</td>\n",
              "      <td>PS3</td>\n",
              "      <td>2015</td>\n",
              "      <td>Sports</td>\n",
              "      <td>Take-Two Interactive</td>\n",
              "      <td>Other</td>\n",
              "      <td>130000</td>\n",
              "    </tr>\n",
              "    <tr>\n",
              "      <th>64962</th>\n",
              "      <td>Toukiden: The Age of Demons</td>\n",
              "      <td>PSV</td>\n",
              "      <td>2013</td>\n",
              "      <td>Action</td>\n",
              "      <td>Tecmo Koei</td>\n",
              "      <td>Other</td>\n",
              "      <td>30000</td>\n",
              "    </tr>\n",
              "    <tr>\n",
              "      <th>64963</th>\n",
              "      <td>The King of Fighters '95</td>\n",
              "      <td>PS</td>\n",
              "      <td>1996</td>\n",
              "      <td>Fighting</td>\n",
              "      <td>Sony Computer Entertainment</td>\n",
              "      <td>Other</td>\n",
              "      <td>10000</td>\n",
              "    </tr>\n",
              "  </tbody>\n",
              "</table>\n",
              "<p>64964 rows × 7 columns</p>\n",
              "</div>\n",
              "      <button class=\"colab-df-convert\" onclick=\"convertToInteractive('df-96a4441b-66c9-4e97-ad2c-ef04330b5200')\"\n",
              "              title=\"Convert this dataframe to an interactive table.\"\n",
              "              style=\"display:none;\">\n",
              "        \n",
              "  <svg xmlns=\"http://www.w3.org/2000/svg\" height=\"24px\"viewBox=\"0 0 24 24\"\n",
              "       width=\"24px\">\n",
              "    <path d=\"M0 0h24v24H0V0z\" fill=\"none\"/>\n",
              "    <path d=\"M18.56 5.44l.94 2.06.94-2.06 2.06-.94-2.06-.94-.94-2.06-.94 2.06-2.06.94zm-11 1L8.5 8.5l.94-2.06 2.06-.94-2.06-.94L8.5 2.5l-.94 2.06-2.06.94zm10 10l.94 2.06.94-2.06 2.06-.94-2.06-.94-.94-2.06-.94 2.06-2.06.94z\"/><path d=\"M17.41 7.96l-1.37-1.37c-.4-.4-.92-.59-1.43-.59-.52 0-1.04.2-1.43.59L10.3 9.45l-7.72 7.72c-.78.78-.78 2.05 0 2.83L4 21.41c.39.39.9.59 1.41.59.51 0 1.02-.2 1.41-.59l7.78-7.78 2.81-2.81c.8-.78.8-2.07 0-2.86zM5.41 20L4 18.59l7.72-7.72 1.47 1.35L5.41 20z\"/>\n",
              "  </svg>\n",
              "      </button>\n",
              "      \n",
              "  <style>\n",
              "    .colab-df-container {\n",
              "      display:flex;\n",
              "      flex-wrap:wrap;\n",
              "      gap: 12px;\n",
              "    }\n",
              "\n",
              "    .colab-df-convert {\n",
              "      background-color: #E8F0FE;\n",
              "      border: none;\n",
              "      border-radius: 50%;\n",
              "      cursor: pointer;\n",
              "      display: none;\n",
              "      fill: #1967D2;\n",
              "      height: 32px;\n",
              "      padding: 0 0 0 0;\n",
              "      width: 32px;\n",
              "    }\n",
              "\n",
              "    .colab-df-convert:hover {\n",
              "      background-color: #E2EBFA;\n",
              "      box-shadow: 0px 1px 2px rgba(60, 64, 67, 0.3), 0px 1px 3px 1px rgba(60, 64, 67, 0.15);\n",
              "      fill: #174EA6;\n",
              "    }\n",
              "\n",
              "    [theme=dark] .colab-df-convert {\n",
              "      background-color: #3B4455;\n",
              "      fill: #D2E3FC;\n",
              "    }\n",
              "\n",
              "    [theme=dark] .colab-df-convert:hover {\n",
              "      background-color: #434B5C;\n",
              "      box-shadow: 0px 1px 3px 1px rgba(0, 0, 0, 0.15);\n",
              "      filter: drop-shadow(0px 1px 2px rgba(0, 0, 0, 0.3));\n",
              "      fill: #FFFFFF;\n",
              "    }\n",
              "  </style>\n",
              "\n",
              "      <script>\n",
              "        const buttonEl =\n",
              "          document.querySelector('#df-96a4441b-66c9-4e97-ad2c-ef04330b5200 button.colab-df-convert');\n",
              "        buttonEl.style.display =\n",
              "          google.colab.kernel.accessAllowed ? 'block' : 'none';\n",
              "\n",
              "        async function convertToInteractive(key) {\n",
              "          const element = document.querySelector('#df-96a4441b-66c9-4e97-ad2c-ef04330b5200');\n",
              "          const dataTable =\n",
              "            await google.colab.kernel.invokeFunction('convertToInteractive',\n",
              "                                                     [key], {});\n",
              "          if (!dataTable) return;\n",
              "\n",
              "          const docLinkHtml = 'Like what you see? Visit the ' +\n",
              "            '<a target=\"_blank\" href=https://colab.research.google.com/notebooks/data_table.ipynb>data table notebook</a>'\n",
              "            + ' to learn more about interactive tables.';\n",
              "          element.innerHTML = '';\n",
              "          dataTable['output_type'] = 'display_data';\n",
              "          await google.colab.output.renderOutput(dataTable, element);\n",
              "          const docLink = document.createElement('div');\n",
              "          docLink.innerHTML = docLinkHtml;\n",
              "          element.appendChild(docLink);\n",
              "        }\n",
              "      </script>\n",
              "    </div>\n",
              "  </div>\n",
              "  "
            ]
          },
          "metadata": {},
          "execution_count": 29
        }
      ]
    },
    {
      "cell_type": "code",
      "source": [
        "df.info()"
      ],
      "metadata": {
        "id": "a_l1W-Qcz8ki",
        "outputId": "8e8a6efe-0144-4bd1-e588-c3bacfb96699",
        "colab": {
          "base_uri": "https://localhost:8080/"
        }
      },
      "execution_count": 30,
      "outputs": [
        {
          "output_type": "stream",
          "name": "stdout",
          "text": [
            "<class 'pandas.core.frame.DataFrame'>\n",
            "RangeIndex: 64964 entries, 0 to 64963\n",
            "Data columns (total 7 columns):\n",
            " #   Column     Non-Null Count  Dtype \n",
            "---  ------     --------------  ----- \n",
            " 0   Name       64964 non-null  object\n",
            " 1   Platform   64964 non-null  object\n",
            " 2   Year       64964 non-null  int64 \n",
            " 3   Genre      64964 non-null  object\n",
            " 4   Publisher  64964 non-null  object\n",
            " 5   Location   64964 non-null  object\n",
            " 6   Sales      64964 non-null  int64 \n",
            "dtypes: int64(2), object(5)\n",
            "memory usage: 3.5+ MB\n"
          ]
        }
      ]
    },
    {
      "cell_type": "markdown",
      "source": [
        "# 데이터 시각화\n",
        "지역에 따라서 선호하는 게임 장르가 다를까  \n",
        "연도별 게임의 트렌드가 있을까  "
      ],
      "metadata": {
        "id": "uzi7Xxhg1Hnx"
      }
    },
    {
      "cell_type": "code",
      "source": [
        "loc_vis = pd.DataFrame()"
      ],
      "metadata": {
        "id": "5BVrvyhE0357"
      },
      "execution_count": 31,
      "outputs": []
    },
    {
      "cell_type": "code",
      "source": [
        "loc_vis[\"NA\"] = df.query(\"Location == 'NA'\").groupby(\"Genre\")['Sales'].sum()\n",
        "loc_vis[\"EU\"] = df.query(\"Location == 'EU'\").groupby(\"Genre\")['Sales'].sum()\n",
        "loc_vis[\"JP\"] = df.query(\"Location == 'JP'\").groupby(\"Genre\")['Sales'].sum()\n",
        "loc_vis[\"Other\"] = df.query(\"Location == 'Other'\").groupby(\"Genre\")['Sales'].sum()"
      ],
      "metadata": {
        "id": "onGz3VRxCtxH"
      },
      "execution_count": 32,
      "outputs": []
    },
    {
      "cell_type": "code",
      "source": [
        "# 전체에 대한 비율로 정규화\n",
        "loc_vis[\"NA\"] = loc_vis[\"NA\"].apply(lambda x: x / loc_vis['NA'].sum())\n",
        "loc_vis[\"EU\"] = loc_vis[\"EU\"].apply(lambda x: x / loc_vis['EU'].sum())\n",
        "loc_vis[\"JP\"] = loc_vis[\"JP\"].apply(lambda x: x / loc_vis['JP'].sum())\n",
        "loc_vis[\"Other\"] = loc_vis[\"Other\"].apply(lambda x: x / loc_vis['Other'].sum())"
      ],
      "metadata": {
        "id": "u8cNOWj2IipA"
      },
      "execution_count": 33,
      "outputs": []
    },
    {
      "cell_type": "code",
      "source": [
        "# 일본의 경우 롤 플레잉 게임이 도드라지는 것을 확인할 수 있다.\n",
        "loc_vis.plot(kind=\"bar\")"
      ],
      "metadata": {
        "id": "sHGFwtxwETaW",
        "outputId": "4bf98920-a8ed-4a41-bc67-7b6724b57fa1",
        "colab": {
          "base_uri": "https://localhost:8080/",
          "height": 349
        }
      },
      "execution_count": 34,
      "outputs": [
        {
          "output_type": "execute_result",
          "data": {
            "text/plain": [
              "<matplotlib.axes._subplots.AxesSubplot at 0x7fe5d7f13990>"
            ]
          },
          "metadata": {},
          "execution_count": 34
        },
        {
          "output_type": "display_data",
          "data": {
            "text/plain": [
              "<Figure size 432x288 with 1 Axes>"
            ],
            "image/png": "[encoded data removed]"
          },
          "metadata": {
            "needs_background": "light"
          }
        }
      ]
    },
    {
      "cell_type": "code",
      "source": [
        "trand = pd.DataFrame()"
      ],
      "metadata": {
        "id": "0Z_4u3YnQHE1"
      },
      "execution_count": 41,
      "outputs": []
    },
    {
      "cell_type": "code",
      "source": [
        "#df 정규화 : 각 년도의 장르별 판매량 / 각 년도의 총 판매량\n",
        "for i in df[\"Year\"].unique() :\n",
        "  trand[i] = df[df.Year == i].groupby(\"Genre\").sum()[\"Sales\"] / df[df.Year == i].sum()['Sales']"
      ],
      "metadata": {
        "id": "6mvLNg_xL9EX"
      },
      "execution_count": 42,
      "outputs": []
    },
    {
      "cell_type": "code",
      "source": [
        "# nan 값을 0으로 대체\n",
        "trand = trand.fillna(0)"
      ],
      "metadata": {
        "id": "dBonBxaxQYJ1"
      },
      "execution_count": 51,
      "outputs": []
    },
    {
      "cell_type": "code",
      "source": [
        "trand = trand.T"
      ],
      "metadata": {
        "id": "YBNP2gfMSYGu"
      },
      "execution_count": 52,
      "outputs": []
    },
    {
      "cell_type": "code",
      "source": [
        "trand = pd.melt(trand.reset_index(), id_vars=[\"index\"])"
      ],
      "metadata": {
        "id": "fX1Lo20nTgDN"
      },
      "execution_count": 79,
      "outputs": []
    },
    {
      "cell_type": "code",
      "source": [
        "trand.columns = [\"Year\", \"Genre\", \"value\"]"
      ],
      "metadata": {
        "id": "-qgol3YJKyMe"
      },
      "execution_count": 82,
      "outputs": []
    },
    {
      "cell_type": "code",
      "source": [
        "trand.plot(kind = \"scatter\", x=\"Year\", y=\"Genre\", s=trand[\"value\"]*1000,figsize=(10,7), c=\"value\", cmap=plt.get_cmap(\"jet\"), colorbar=True, sharex=False)"
      ],
      "metadata": {
        "id": "X7xGfqYnM_V8",
        "outputId": "312928df-a4a7-43c4-f0f0-dbdff736edf1",
        "colab": {
          "base_uri": "https://localhost:8080/",
          "height": 464
        }
      },
      "execution_count": 100,
      "outputs": [
        {
          "output_type": "execute_result",
          "data": {
            "text/plain": [
              "<matplotlib.axes._subplots.AxesSubplot at 0x7fe5d221f950>"
            ]
          },
          "metadata": {},
          "execution_count": 100
        },
        {
          "output_type": "display_data",
          "data": {
            "text/plain": [
              "<Figure size 720x504 with 2 Axes>"
            ],
            "image/png": "[encoded data removed]"
          },
          "metadata": {
            "needs_background": "light"
          }
        }
      ]
    },
    {
      "cell_type": "code",
      "source": [],
      "metadata": {
        "id": "Tfj-jKYnXUOL"
      },
      "execution_count": null,
      "outputs": []
    }
  ]
}