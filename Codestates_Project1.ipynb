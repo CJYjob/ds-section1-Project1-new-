{
  "nbformat": 4,
  "nbformat_minor": 0,
  "metadata": {
    "colab": {
      "name": "Codestates_Project1.ipynb",
      "provenance": [],
      "collapsed_sections": [],
      "authorship_tag": "ABX9TyMVza/pDT7ElMHtq1AnBCG5"
    },
    "kernelspec": {
      "name": "python3",
      "display_name": "Python 3"
    },
    "language_info": {
      "name": "python"
    }
  },
  "cells": [
    {
      "cell_type": "markdown",
      "source": [
        "# [Day 1-3] 프로젝트 설명서\n",
        "\n",
        "---\n",
        "\n",
        "| 아래의 링크를 통해 파일을 다운로드 받으세요.  \n",
        "| https://ds-lecture-data.s3.ap-northeast-2.amazonaws.com/datasets/vgames2.csv\n",
        "\n",
        "---\n",
        "\n",
        "# 목표 \n",
        "+ 다음 분기에 어떤 게임을 설계해야 할까\n",
        "\n",
        "---\n",
        "\n",
        "# 🕹️ Data Description\n",
        "+ Name : 게임의 이름입니다.  \n",
        "+ Platform : 게임이 지원되는 플랫폼의 이름입니다.  \n",
        "+ Year : 게임이 출시된 연도입니다.  \n",
        "+ Genre : 게임의 장르입니다.  \n",
        "+ Publisher : 게임을 제작한 회사입니다.  \n",
        "+ NA_Sales : 북미지역에서의 출고량입니다.  \n",
        "+ EU_Sales : 유럽지역에서의 출고량입니다.  \n",
        "+ JP_Sales : 일본지역에서의 출고량입니다.  \n",
        "+ Other_Sales : 기타지역에서의 출고량입니다.  \n",
        "\n",
        "---\n",
        "\n",
        "# 참조  \n",
        "+ Sprint 1 : EDA, Feature Engineering, Data Manipulation, Data Visualization  \n",
        "+ Sprint 2 : Hypothesis Test, CI, Bayesian, AB Test  \n",
        "+ Sprint 3 : DR, PCA, Clustering, GD  \n",
        "\n",
        "---\n",
        "\n",
        "# 반드시 들어가야 하는 내용.\n",
        "+ 지역에 따라서 선호하는 게임 장르가 다를까\n",
        "+ 연도별 게임의 트렌드가 있을까\n",
        "+ 출고량이 높은 게임에 대한 분석 및 시각화 프로세스가 포함"
      ],
      "metadata": {
        "id": "4-vu1ZMi1PKk"
      }
    },
    {
      "cell_type": "code",
      "execution_count": null,
      "metadata": {
        "id": "eceP2kW60W2q"
      },
      "outputs": [],
      "source": []
    }
  ]
}